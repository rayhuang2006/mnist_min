{
  "cells": [
    {
      "cell_type": "markdown",
      "metadata": {},
      "source": [
        "# MNIST-Min Notebook\n",
        "\n",
        "\u9019\u500b Notebook \u5e36\u4f60\u8dd1\u5b8c\u6574\u6d41\u7a0b\uff1a\u8a13\u7df4 \u2192 \u6e2c\u8a66 \u2192 \u532f\u51fa ONNX \u2192 \u55ae\u5f35\u63a8\u8ad6 \u2192 \u756b\u51fa\u8a13\u7df4\u66f2\u7dda\u3002\n"
      ]
    },
    {
      "cell_type": "code",
      "execution_count": null,
      "metadata": {},
      "outputs": [],
      "source": [
        "# \u5b89\u88dd\u4f9d\u8cf4\uff08\u5728 Colab \u6216\u672c\u6a5f\u9700\u8981\u6642\u57f7\u884c\uff09\n",
        "!pip -q install torch torchvision Pillow matplotlib\n"
      ]
    },
    {
      "cell_type": "code",
      "execution_count": null,
      "metadata": {},
      "outputs": [],
      "source": [
        "# 1) \u8a13\u7df4\u8207\u6e2c\u8a66\uff08\u6703\u81ea\u52d5\u4e0b\u8f09 MNIST\uff09\n",
        "!python train.py --epochs 2 --batch-size 128 --save-plots"
      ]
    },
    {
      "cell_type": "code",
      "execution_count": null,
      "metadata": {},
      "outputs": [],
      "source": [
        "# 2) \u532f\u51fa ONNX\n",
        "!python export_onnx.py --model model.pth --out model.onnx --opset 13"
      ]
    },
    {
      "cell_type": "code",
      "execution_count": null,
      "metadata": {},
      "outputs": [],
      "source": [
        "# 3) \u7522\u751f\u5e7e\u5f35\u6e2c\u8a66\u5716\u7247\u4e26\u63a8\u8ad6\n",
        "!python make_samples.py --count 5\n",
        "!python infer.py samples/0.png"
      ]
    },
    {
      "cell_type": "code",
      "execution_count": null,
      "metadata": {},
      "outputs": [],
      "source": [
        "# 4) \u986f\u793a\u8a13\u7df4\u66f2\u7dda\uff08\u9700\u8981 matplotlib\uff09\n",
        "from IPython.display import Image, display\n",
        "display(Image(filename='loss.png'))\n",
        "display(Image(filename='acc.png'))"
      ]
    }
  ],
  "metadata": {
    "kernelspec": {
      "display_name": "Python 3",
      "language": "python",
      "name": "python3"
    },
    "language_info": {
      "name": "python",
      "version": "3.x"
    }
  },
  "nbformat": 4,
  "nbformat_minor": 5
}